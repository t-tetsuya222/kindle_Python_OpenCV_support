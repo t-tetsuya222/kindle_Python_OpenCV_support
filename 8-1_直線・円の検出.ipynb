{
 "cells": [
  {
   "cell_type": "code",
   "execution_count": 2,
   "metadata": {},
   "outputs": [],
   "source": [
    "import cv2\n",
    "import numpy as np\n",
    "\n",
    "img = cv2.imread(\"src/road.jpg\")\n",
    "# 検出する対象をCannyエッジ検出にかける\n",
    "img_g = cv2.imread(\"src/road.jpg\",0)\n",
    "img_canny = cv2.Canny(img_g, 300,450)\n",
    "cv2.imshow(\"img\",img_canny) \n",
    "cv2.waitKey(0)\n",
    "cv2.destroyAllWindows()\n",
    "\n",
    "# 直線を検出\n",
    "lines = cv2.HoughLines(img_canny, 1, np.pi / 180, 100)\n",
    "\n",
    "#\n",
    "# 検出した直線を画像に描画\n",
    "#\n",
    "for i in lines[:]:\n",
    "    rho = i[0][0]\n",
    "    theta = i[0][1]\n",
    "    a = np.cos(theta)\n",
    "    b = np.sin(theta)\n",
    "    x0 = a * rho\n",
    "    y0 = b * rho\n",
    "    x1 = int(x0 + 1000 * (-b))\n",
    "    y1 = int(y0 + 1000 * (a))\n",
    "    x2 = int(x0 - 1000 * (-b))\n",
    "    y2 = int(y0 - 1000 * (a))\n",
    "    cv2.line(img, (x1,y1),(x2,y2), (255,0,0),1)\n",
    "cv2.imshow(\"img\",img) \n",
    "cv2.waitKey(0)\n",
    "cv2.destroyAllWindows()"
   ]
  },
  {
   "cell_type": "code",
   "execution_count": 3,
   "metadata": {},
   "outputs": [],
   "source": [
    "img = cv2.imread(\"src/grapes.jpg\", 0)\n",
    "# 円の検出\n",
    "circles = cv2.HoughCircles(img, cv2.HOUGH_GRADIENT, dp=1, minDist=1, param1=20, param2=35, minRadius=1, maxRadius=30)\n",
    "\n",
    "img = cv2.imread(\"src/grapes.jpg\")\n",
    "#\n",
    "# 検出した円を重ねる\n",
    "#\n",
    "for i in circles[0]:\n",
    "    cv2.circle(img, (i[0],i[1]),i[2], (255,0,0),1)\n",
    "cv2.imshow(\"img\", img)\n",
    "cv2.waitKey(0)\n",
    "cv2.destroyAllWindows()"
   ]
  },
  {
   "cell_type": "code",
   "execution_count": null,
   "metadata": {},
   "outputs": [],
   "source": []
  }
 ],
 "metadata": {
  "kernelspec": {
   "display_name": "Python 3",
   "language": "python",
   "name": "python3"
  },
  "language_info": {
   "codemirror_mode": {
    "name": "ipython",
    "version": 3
   },
   "file_extension": ".py",
   "mimetype": "text/x-python",
   "name": "python",
   "nbconvert_exporter": "python",
   "pygments_lexer": "ipython3",
   "version": "3.5.5"
  }
 },
 "nbformat": 4,
 "nbformat_minor": 2
}
