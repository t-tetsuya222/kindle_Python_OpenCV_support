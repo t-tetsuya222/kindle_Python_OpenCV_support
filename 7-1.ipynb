{
 "cells": [
  {
   "cell_type": "code",
   "execution_count": 2,
   "metadata": {},
   "outputs": [],
   "source": [
    "import cv2\n",
    "import numpy as np\n",
    "\n",
    "img = cv2.imread(\"src/Lena.jpg\")\n",
    "# ランダムにノイズを発生させる為の場所を選ぶ\n",
    "x = np.random.randint(512, size=500)\n",
    "y = np.random.randint(512, size=500)\n",
    "# ノイズを入れる\n",
    "for i,j in zip(x,y):\n",
    "    img[i,j] = 150\n",
    "\n",
    "# 平滑化カーネルを定義する\n",
    "average_kernel = np.ones((3,3)) / 9.0\n",
    "# 平滑化カーネルを畳み込む\n",
    "img_ave = cv2.filter2D(img, -1, average_kernel)\n",
    "\n",
    "cv2.imshow(\"img_average\", img_ave)\n",
    "cv2.imshow(\"img\", img)\n",
    "cv2.waitKey(0)\n",
    "cv2.destroyAllWindows()"
   ]
  },
  {
   "cell_type": "code",
   "execution_count": null,
   "metadata": {},
   "outputs": [],
   "source": []
  }
 ],
 "metadata": {
  "kernelspec": {
   "display_name": "Python 3",
   "language": "python",
   "name": "python3"
  },
  "language_info": {
   "codemirror_mode": {
    "name": "ipython",
    "version": 3
   },
   "file_extension": ".py",
   "mimetype": "text/x-python",
   "name": "python",
   "nbconvert_exporter": "python",
   "pygments_lexer": "ipython3",
   "version": "3.5.5"
  }
 },
 "nbformat": 4,
 "nbformat_minor": 2
}
