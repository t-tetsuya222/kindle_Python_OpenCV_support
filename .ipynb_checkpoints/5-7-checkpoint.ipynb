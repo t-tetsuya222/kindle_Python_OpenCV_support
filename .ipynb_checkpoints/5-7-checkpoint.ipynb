{
 "cells": [
  {
   "cell_type": "code",
   "execution_count": 1,
   "metadata": {},
   "outputs": [],
   "source": [
    "import cv2\n",
    "import numpy as np\n",
    "\n",
    "# 真っ白な画像をnumpyアレーで用意する\n",
    "img = np.ones((500,500,3), dtype=np.uint8) * 255\n",
    "\n",
    "# ラインを描く\n",
    "cv2.line(img, (0,0), (150,190), (255,0,0), 2)\n",
    "# 長方形を描く\n",
    "cv2.rectangle(img, (100,25), (300,150), (0,255,0),3) \n",
    "# 円を描く\n",
    "cv2.circle(img, (100,100), 55, (0,0,255), -1)\n",
    "# 楕円を描く\n",
    "cv2.ellipse(img, (250,250), (100,50),20,180,360, (255,0,0),1) \n",
    "\n",
    "# フォントの設定\n",
    "font = cv2.FONT_HERSHEY_SIMPLEX\n",
    "# 文字を書く\n",
    "cv2.putText(img,\"OpenCV\", (100,300), font, 1, (0,255,0),3, cv2.LINE_AA) \n",
    "\n",
    "cv2.imshow(\"img\", img)\n",
    "cv2.waitKey(0)\n",
    "cv2.destroyAllWindows()"
   ]
  },
  {
   "cell_type": "code",
   "execution_count": null,
   "metadata": {},
   "outputs": [],
   "source": []
  }
 ],
 "metadata": {
  "kernelspec": {
   "display_name": "Python 3",
   "language": "python",
   "name": "python3"
  },
  "language_info": {
   "codemirror_mode": {
    "name": "ipython",
    "version": 3
   },
   "file_extension": ".py",
   "mimetype": "text/x-python",
   "name": "python",
   "nbconvert_exporter": "python",
   "pygments_lexer": "ipython3",
   "version": "3.6.5"
  }
 },
 "nbformat": 4,
 "nbformat_minor": 2
}
