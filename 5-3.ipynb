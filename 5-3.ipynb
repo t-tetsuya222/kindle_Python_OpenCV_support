{
 "cells": [
  {
   "cell_type": "code",
   "execution_count": 2,
   "metadata": {},
   "outputs": [],
   "source": [
    "import cv2\n",
    "img = cv2.imread(\"src/Lena.jpg\")\n",
    "cv2.imshow(\"window_default\", img)\n",
    "# ウィンドウに名前を付け、設定をノーマルにする\n",
    "cv2.namedWindow(\"window_resize\", cv2.WINDOW_NORMAL)\n",
    "# ウィンドウの大きさを640 x 480に変更する\n",
    "cv2.resizeWindow(\"window_resize\", 640, 480)\n",
    "cv2.imshow(\"window_resize\", img)\n",
    "cv2.waitKey(0)\n",
    "cv2.destroyAllWindows()"
   ]
  },
  {
   "cell_type": "code",
   "execution_count": null,
   "metadata": {},
   "outputs": [],
   "source": []
  }
 ],
 "metadata": {
  "kernelspec": {
   "display_name": "Python 3",
   "language": "python",
   "name": "python3"
  },
  "language_info": {
   "codemirror_mode": {
    "name": "ipython",
    "version": 3
   },
   "file_extension": ".py",
   "mimetype": "text/x-python",
   "name": "python",
   "nbconvert_exporter": "python",
   "pygments_lexer": "ipython3",
   "version": "3.5.5"
  }
 },
 "nbformat": 4,
 "nbformat_minor": 2
}
