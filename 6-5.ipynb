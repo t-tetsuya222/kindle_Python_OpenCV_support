{
 "cells": [
  {
   "cell_type": "code",
   "execution_count": 3,
   "metadata": {},
   "outputs": [],
   "source": [
    "import cv2\n",
    "import numpy as np\n",
    "\n",
    "img = cv2.imread(\"src/grapes.jpg\")\n",
    "h, w = img.shape[:2]\n",
    "# 平行移動量\n",
    "dx, dy = 30, 30\n",
    "\n",
    "# 変換行列の作成\n",
    "afn_mat = np.float32([[1,0,dx],[0,1,dy]])\n",
    "# アファイン変換の実行\n",
    "img_afn = cv2.warpAffine(img, afn_mat, (w, h))\n",
    "\n",
    "cv2.imshow(\"affine\", img_afn)\n",
    "cv2.waitKey(0)\n",
    "cv2.destroyAllWindows()"
   ]
  },
  {
   "cell_type": "code",
   "execution_count": 2,
   "metadata": {},
   "outputs": [],
   "source": [
    "import cv2\n",
    "import numpy as np\n",
    "\n",
    "img = cv2.imread(\"src/grapes.jpg\")\n",
    "h, w = img.shape[:2]\n",
    "# 回転の変換行列を得る\n",
    "rot_mat = cv2.getRotationMatrix2D((w/2, h/2), 40, 1)\n",
    "# アファイン変換を行う\n",
    "img_afn = cv2.warpAffine(img, rot_mat, (w,h))\n",
    "\n",
    "cv2.imshow(\"affine\", img_afn)\n",
    "cv2.imwrite(\"img_affine2.png\", img_afn)\n",
    "cv2.waitKey(0)\n",
    "cv2.destroyAllWindows()"
   ]
  },
  {
   "cell_type": "code",
   "execution_count": null,
   "metadata": {},
   "outputs": [],
   "source": []
  }
 ],
 "metadata": {
  "kernelspec": {
   "display_name": "Python 3",
   "language": "python",
   "name": "python3"
  },
  "language_info": {
   "codemirror_mode": {
    "name": "ipython",
    "version": 3
   },
   "file_extension": ".py",
   "mimetype": "text/x-python",
   "name": "python",
   "nbconvert_exporter": "python",
   "pygments_lexer": "ipython3",
   "version": "3.5.5"
  }
 },
 "nbformat": 4,
 "nbformat_minor": 2
}
