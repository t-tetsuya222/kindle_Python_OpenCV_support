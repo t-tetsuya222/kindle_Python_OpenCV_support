{
 "cells": [
  {
   "cell_type": "code",
   "execution_count": 1,
   "metadata": {},
   "outputs": [],
   "source": [
    "import cv2\n",
    "\n",
    "img = cv2.imread(\"src/Blob.png\")\n",
    "img_g = cv2.imread(\"src/Blob.png\",0)\n",
    "\n",
    "# 画像の2値化\n",
    "ret, img_bi = cv2.threshold(img_g, 20,255, cv2.THRESH_BINARY )\n",
    "\n",
    "# 2値化画像を元に輪郭を抽出\n",
    "image, contours, hierarchy = cv2.findContours(img_bi, cv2.RETR_TREE, cv2.CHAIN_APPROX_SIMPLE)\n",
    "# 抽出した輪郭を元画像に重ねて描く\n",
    "img_contour = cv2.drawContours(img, contours, -1, (255,0,0), 1)\n",
    "\n",
    "cv2.imshow(\"contour\", img_contour)\n",
    "cv2.waitKey(0)\n",
    "cv2.destroyAllWindows()"
   ]
  },
  {
   "cell_type": "code",
   "execution_count": null,
   "metadata": {},
   "outputs": [],
   "source": []
  }
 ],
 "metadata": {
  "kernelspec": {
   "display_name": "Python 3",
   "language": "python",
   "name": "python3"
  },
  "language_info": {
   "codemirror_mode": {
    "name": "ipython",
    "version": 3
   },
   "file_extension": ".py",
   "mimetype": "text/x-python",
   "name": "python",
   "nbconvert_exporter": "python",
   "pygments_lexer": "ipython3",
   "version": "3.5.5"
  }
 },
 "nbformat": 4,
 "nbformat_minor": 2
}
