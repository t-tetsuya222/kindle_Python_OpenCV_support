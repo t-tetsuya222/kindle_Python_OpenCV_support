{
 "cells": [
  {
   "cell_type": "code",
   "execution_count": 1,
   "metadata": {},
   "outputs": [],
   "source": [
    "import cv2\n",
    "\n",
    "# HaarLike特徴のパス\n",
    "# 人によって異なるパスになるので対応したパスを指定の事\n",
    "HAAR_FILE = \"C:/Users/tetsuya/Anaconda3/pkgs/opencv3-3.1.0-py35_0/Library/etc/haarcascades/haarcascade_frontalface_default.xml\"\n",
    "\n",
    "# HaarLike特徴抽出アルゴリズムから分類器を作成\n",
    "cascade = cv2.CascadeClassifier(HAAR_FILE)\n",
    "\n",
    "img = cv2.imread(\"src/Solvay_conference_1927.jpg\")\n",
    "# 実際に分類を行う\n",
    "face = cascade.detectMultiScale(img)\n",
    "\n",
    "# 検出した顔を四角形で描画\n",
    "for x, y, w, h in face:\n",
    "    cv2.rectangle(img, (x,y), (x+w,y+h), (0,0,255),1)\n",
    "cv2.imshow(\"img\",img)\n",
    "cv2.waitKey(0)\n",
    "cv2.destroyAllWindows()"
   ]
  },
  {
   "cell_type": "code",
   "execution_count": null,
   "metadata": {},
   "outputs": [],
   "source": []
  }
 ],
 "metadata": {
  "kernelspec": {
   "display_name": "Python 3",
   "language": "python",
   "name": "python3"
  },
  "language_info": {
   "codemirror_mode": {
    "name": "ipython",
    "version": 3
   },
   "file_extension": ".py",
   "mimetype": "text/x-python",
   "name": "python",
   "nbconvert_exporter": "python",
   "pygments_lexer": "ipython3",
   "version": "3.5.5"
  }
 },
 "nbformat": 4,
 "nbformat_minor": 2
}
