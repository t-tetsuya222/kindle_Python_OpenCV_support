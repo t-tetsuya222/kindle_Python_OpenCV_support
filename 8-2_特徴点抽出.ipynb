{
 "cells": [
  {
   "cell_type": "code",
   "execution_count": 1,
   "metadata": {},
   "outputs": [],
   "source": [
    "import cv2\n",
    "import numpy as np\n",
    "import copy\n",
    "\n",
    "img = cv2.imread(\"src/buildings.jpg\")\n",
    "img_g = cv2.imread(\"src/buildings.jpg\",0)\n",
    "\n",
    "img_harris = copy.deepcopy(img)\n",
    "# Harrisの特徴抽出\n",
    "img_dst = cv2.cornerHarris(img_g, 2,3,0.04) #block size, ksize, k\n",
    "# スコアに基づいた特徴点の塗りつぶし\n",
    "img_harris[img_dst > 0.05 * img_dst.max()] = [0,0,255]\n",
    "cv2.imshow(\"img\",img_harris)\n",
    "cv2.waitKey(0)\n",
    "cv2.destroyAllWindows()"
   ]
  },
  {
   "cell_type": "code",
   "execution_count": 2,
   "metadata": {},
   "outputs": [],
   "source": [
    "img_akaze = copy.deepcopy(img)\n",
    "# AKAZEを用意する\n",
    "akaze = cv2.AKAZE_create()\n",
    "kp1 = akaze.detect(img_akaze)\n",
    "img_akaze = cv2.drawKeypoints(img_akaze, kp1, None)\n",
    "img_orb = copy.deepcopy(img)\n",
    "# ORBを用意する\n",
    "orb = cv2.ORB_create()\n",
    "kp2 = orb.detect(img_orb)\n",
    "img_orb = cv2.drawKeypoints(img_orb, kp2, None)\n",
    "\n",
    "cv2.imshow(\"AKAZE\", img_akaze)\n",
    "cv2.imshow(\"ORB\", img_orb)\n",
    "cv2.waitKey(0)\n",
    "cv2.destroyAllWindows()"
   ]
  },
  {
   "cell_type": "code",
   "execution_count": null,
   "metadata": {},
   "outputs": [],
   "source": []
  }
 ],
 "metadata": {
  "kernelspec": {
   "display_name": "Python 3",
   "language": "python",
   "name": "python3"
  },
  "language_info": {
   "codemirror_mode": {
    "name": "ipython",
    "version": 3
   },
   "file_extension": ".py",
   "mimetype": "text/x-python",
   "name": "python",
   "nbconvert_exporter": "python",
   "pygments_lexer": "ipython3",
   "version": "3.5.5"
  }
 },
 "nbformat": 4,
 "nbformat_minor": 2
}
