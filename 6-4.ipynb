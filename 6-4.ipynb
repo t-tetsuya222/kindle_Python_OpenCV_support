{
 "cells": [
  {
   "cell_type": "code",
   "execution_count": 3,
   "metadata": {},
   "outputs": [],
   "source": [
    "import cv2\n",
    "img = cv2.imread(\"src/grapes.jpg\",0)\n",
    "\n",
    "# コールバック関数を定義\n",
    "def onTrackbar(position):\n",
    "    pass\n",
    "cv2.namedWindow(\"img\")\n",
    "threshold = 100\n",
    "cv2.createTrackbar(\"track\",\"img\", threshold, 255, onTrackbar)\n",
    "while True:\n",
    "    ret, img_th = cv2.threshold(img, threshold, 255, cv2.THRESH_BINARY)\n",
    "    # トラックバーの位置をthresholdに代入\n",
    "    threshold = cv2.getTrackbarPos(\"track\", \"img\")\n",
    "    cv2.imshow(\"img\", img_th)\n",
    "    if cv2.waitKey(10) == 27:\n",
    "        break\n",
    "cv2.destroyAllWindows()"
   ]
  },
  {
   "cell_type": "code",
   "execution_count": null,
   "metadata": {},
   "outputs": [],
   "source": []
  }
 ],
 "metadata": {
  "kernelspec": {
   "display_name": "Python 3",
   "language": "python",
   "name": "python3"
  },
  "language_info": {
   "codemirror_mode": {
    "name": "ipython",
    "version": 3
   },
   "file_extension": ".py",
   "mimetype": "text/x-python",
   "name": "python",
   "nbconvert_exporter": "python",
   "pygments_lexer": "ipython3",
   "version": "3.5.5"
  }
 },
 "nbformat": 4,
 "nbformat_minor": 2
}
