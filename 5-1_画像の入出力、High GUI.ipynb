{
 "cells": [
  {
   "cell_type": "code",
   "execution_count": 1,
   "metadata": {},
   "outputs": [],
   "source": [
    "# OpenCV3のimport\n",
    "import cv2"
   ]
  },
  {
   "cell_type": "code",
   "execution_count": 3,
   "metadata": {},
   "outputs": [],
   "source": [
    "# 画像をimgに読み込み\n",
    "img = cv2.imread(\"./src/Berry.jpg\")"
   ]
  },
  {
   "cell_type": "code",
   "execution_count": 4,
   "metadata": {},
   "outputs": [
    {
     "data": {
      "text/plain": [
       "array([[[126, 176, 194],\n",
       "        [127, 175, 193],\n",
       "        [130, 176, 194],\n",
       "        ..., \n",
       "        [143, 173, 198],\n",
       "        [143, 173, 198],\n",
       "        [143, 173, 198]],\n",
       "\n",
       "       [[122, 170, 188],\n",
       "        [124, 172, 190],\n",
       "        [128, 174, 192],\n",
       "        ..., \n",
       "        [136, 167, 192],\n",
       "        [134, 165, 190],\n",
       "        [133, 164, 189]],\n",
       "\n",
       "       [[123, 171, 189],\n",
       "        [129, 175, 193],\n",
       "        [131, 174, 193],\n",
       "        ..., \n",
       "        [133, 164, 189],\n",
       "        [131, 162, 187],\n",
       "        [130, 161, 186]],\n",
       "\n",
       "       ..., \n",
       "       [[123, 126, 130],\n",
       "        [123, 126, 130],\n",
       "        [123, 126, 130],\n",
       "        ..., \n",
       "        [  0,   4,  19],\n",
       "        [  5,  11,  24],\n",
       "        [ 14,  20,  33]],\n",
       "\n",
       "       [[117, 118, 122],\n",
       "        [113, 116, 120],\n",
       "        [108, 111, 115],\n",
       "        ..., \n",
       "        [  3,  12,  22],\n",
       "        [  0,   8,  18],\n",
       "        [  5,  11,  22]],\n",
       "\n",
       "       [[101, 102, 106],\n",
       "        [100, 101, 105],\n",
       "        [ 94,  95,  99],\n",
       "        ..., \n",
       "        [ 31,  46,  55],\n",
       "        [ 20,  35,  44],\n",
       "        [ 15,  30,  39]]], dtype=uint8)"
      ]
     },
     "execution_count": 4,
     "metadata": {},
     "output_type": "execute_result"
    }
   ],
   "source": [
    "img"
   ]
  },
  {
   "cell_type": "code",
   "execution_count": 5,
   "metadata": {},
   "outputs": [
    {
     "data": {
      "text/plain": [
       "(589, 960, 3)"
      ]
     },
     "execution_count": 5,
     "metadata": {},
     "output_type": "execute_result"
    }
   ],
   "source": [
    "# Height x Width x Colorの順\n",
    "img.shape"
   ]
  },
  {
   "cell_type": "code",
   "execution_count": 6,
   "metadata": {},
   "outputs": [],
   "source": [
    "# 画像の出力\n",
    "cv2.imshow(\"test\", img)\n",
    "# キー入力を待つ\n",
    "cv2.waitKey(0)\n",
    "# ウィンドウを破棄する\n",
    "cv2.destroyAllWindows()"
   ]
  },
  {
   "cell_type": "code",
   "execution_count": null,
   "metadata": {},
   "outputs": [],
   "source": [
    "cv2.imwrite(\"./output.jpg\", img)"
   ]
  }
 ],
 "metadata": {
  "kernelspec": {
   "display_name": "Python 3",
   "language": "python",
   "name": "python3"
  },
  "language_info": {
   "codemirror_mode": {
    "name": "ipython",
    "version": 3
   },
   "file_extension": ".py",
   "mimetype": "text/x-python",
   "name": "python",
   "nbconvert_exporter": "python",
   "pygments_lexer": "ipython3",
   "version": "3.5.5"
  }
 },
 "nbformat": 4,
 "nbformat_minor": 2
}
