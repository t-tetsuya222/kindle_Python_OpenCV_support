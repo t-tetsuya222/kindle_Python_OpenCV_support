{
 "cells": [
  {
   "cell_type": "code",
   "execution_count": 2,
   "metadata": {},
   "outputs": [],
   "source": [
    "import cv2\n",
    "import numpy as np\n",
    "cap = cv2.VideoCapture(\"movie/People.mp4\")\n",
    "ret, frame = cap.read()\n",
    "h, w, ch = frame.shape\n",
    "# 背景差分用の背景\n",
    "frame_back = np.zeros((h,w,ch), dtype=np.float32)\n",
    "while True:\n",
    "    ret, frame = cap.read()\n",
    "    if ret == False:\n",
    "        break\n",
    "    # 現在のフレームと背景とで差分を取る\n",
    "    frame_diff = cv2.absdiff(frame.astype(np.float32), frame_back)\n",
    "    # 背景を少しずつ現在のフレームに近づけたものを新たな背景とする\n",
    "    cv2.accumulateWeighted(frame, frame_back, 0.03)\n",
    "    cv2.imshow(\"img\", frame_diff.astype(np.uint8))\n",
    "    if cv2.waitKey(10) == 27:\n",
    "        break\n",
    "cv2.destroyAllWindows()\n"
   ]
  },
  {
   "cell_type": "code",
   "execution_count": null,
   "metadata": {},
   "outputs": [],
   "source": []
  }
 ],
 "metadata": {
  "kernelspec": {
   "display_name": "Python 3",
   "language": "python",
   "name": "python3"
  },
  "language_info": {
   "codemirror_mode": {
    "name": "ipython",
    "version": 3
   },
   "file_extension": ".py",
   "mimetype": "text/x-python",
   "name": "python",
   "nbconvert_exporter": "python",
   "pygments_lexer": "ipython3",
   "version": "3.5.5"
  }
 },
 "nbformat": 4,
 "nbformat_minor": 2
}
