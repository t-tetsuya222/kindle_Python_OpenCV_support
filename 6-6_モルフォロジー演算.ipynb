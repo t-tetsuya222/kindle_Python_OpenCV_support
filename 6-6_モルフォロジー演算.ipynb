{
 "cells": [
  {
   "cell_type": "code",
   "execution_count": 5,
   "metadata": {},
   "outputs": [],
   "source": [
    "import cv2\n",
    "import numpy as np\n",
    "\n",
    "img = cv2.imread(\"src/floor.jpg\",0)\n",
    "ret, img_th = cv2.threshold(img,110, 255, cv2.THRESH_BINARY)\n",
    "cv2.imshow(\"img\", img_th)\n",
    "cv2.waitKey(0)\n",
    "cv2.destroyAllWindows()"
   ]
  },
  {
   "cell_type": "code",
   "execution_count": 3,
   "metadata": {},
   "outputs": [],
   "source": [
    "# モルフォロジー演算に必要なカーネルの準備\n",
    "kernel = np.ones((3,3),dtype=np.uint8)\n",
    "# 膨張\n",
    "img_d = cv2.dilate(img_th, kernel)\n",
    "# 収縮\n",
    "img_e = cv2.erode(img_th,kernel)\n",
    "cv2.imshow(\"dilate\", img_d)\n",
    "cv2.imshow(\"erode\", img_e)\n",
    "cv2.waitKey(0)\n",
    "cv2.destroyAllWindows()"
   ]
  },
  {
   "cell_type": "code",
   "execution_count": 4,
   "metadata": {},
   "outputs": [],
   "source": [
    "# クロージングを行う\n",
    "img_c = cv2.morphologyEx(img_th,cv2.MORPH_CLOSE, kernel)\n",
    "# 比較用にclosingとdilateの両方を表示する\n",
    "cv2.imshow(\"closing\", img_c)\n",
    "cv2.imshow(\"dilate\",img_d)\n",
    "cv2.waitKey(0)\n",
    "cv2.destroyAllWindows()"
   ]
  },
  {
   "cell_type": "code",
   "execution_count": null,
   "metadata": {},
   "outputs": [],
   "source": []
  }
 ],
 "metadata": {
  "kernelspec": {
   "display_name": "Python 3",
   "language": "python",
   "name": "python3"
  },
  "language_info": {
   "codemirror_mode": {
    "name": "ipython",
    "version": 3
   },
   "file_extension": ".py",
   "mimetype": "text/x-python",
   "name": "python",
   "nbconvert_exporter": "python",
   "pygments_lexer": "ipython3",
   "version": "3.5.5"
  }
 },
 "nbformat": 4,
 "nbformat_minor": 2
}
