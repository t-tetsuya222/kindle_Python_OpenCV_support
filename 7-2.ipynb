{
 "cells": [
  {
   "cell_type": "code",
   "execution_count": 3,
   "metadata": {},
   "outputs": [],
   "source": [
    "import cv2\n",
    "\n",
    "img = cv2.imread(\"src/Lena.jpg\")\n",
    "# 平滑化処理を行う\n",
    "img_blur = cv2.blur(img, (3,3))\n",
    "cv2.imshow(\"img\", img_blur)\n",
    "cv2.waitKey(0)\n",
    "cv2.destroyAllWindows()"
   ]
  },
  {
   "cell_type": "code",
   "execution_count": 6,
   "metadata": {},
   "outputs": [],
   "source": [
    "# ガウスフィルター\n",
    "img_ga = cv2.GaussianBlur(img, (9,9), 2)\n",
    "# 中央値フィルター\n",
    "img_me = cv2.medianBlur(img,5)\n",
    "# バイラテラルフィルター\n",
    "img_bi = cv2.bilateralFilter(img, 20, 30, 30)\n",
    "\n",
    "cv2.imshow(\"gaussian\", img_ga)\n",
    "cv2.imshow(\"median\", img_me)\n",
    "cv2.imshow(\"bilateral\", img_bi)\n",
    "cv2.imshow(\"img\", img)\n",
    "cv2.waitKey(0)\n",
    "cv2.destroyAllWindows()"
   ]
  },
  {
   "cell_type": "code",
   "execution_count": null,
   "metadata": {},
   "outputs": [],
   "source": []
  }
 ],
 "metadata": {
  "kernelspec": {
   "display_name": "Python 3",
   "language": "python",
   "name": "python3"
  },
  "language_info": {
   "codemirror_mode": {
    "name": "ipython",
    "version": 3
   },
   "file_extension": ".py",
   "mimetype": "text/x-python",
   "name": "python",
   "nbconvert_exporter": "python",
   "pygments_lexer": "ipython3",
   "version": "3.5.5"
  }
 },
 "nbformat": 4,
 "nbformat_minor": 2
}
