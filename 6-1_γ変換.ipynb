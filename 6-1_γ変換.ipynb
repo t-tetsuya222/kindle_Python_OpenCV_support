{
 "cells": [
  {
   "cell_type": "code",
   "execution_count": 1,
   "metadata": {},
   "outputs": [],
   "source": [
    "import cv2\n",
    "import numpy as np\n",
    "\n",
    "# γ変換のγ値\n",
    "gamma = 1.5\n",
    "\n",
    "img = cv2.imread(\"src/Berry.jpg\")\n",
    "# 変換用のnumpyアレー\n",
    "gamma_cvt = np.zeros((256, 1), dtype = 'uint8') \n",
    "for i in range(256):\n",
    "    gamma_cvt[i][0] = 255 * (float(i) / 255) ** (1.0 / gamma)\n",
    "    \n",
    "img_gamma = cv2.LUT(img, gamma_cvt)\n",
    "\n",
    "cv2.imshow(\"img\", img)\n",
    "cv2.imshow(\"gamma\", img_gamma)\n",
    "cv2.waitKey(0)\n",
    "cv2.destroyAllWindows()"
   ]
  },
  {
   "cell_type": "code",
   "execution_count": null,
   "metadata": {},
   "outputs": [],
   "source": []
  }
 ],
 "metadata": {
  "kernelspec": {
   "display_name": "Python 3",
   "language": "python",
   "name": "python3"
  },
  "language_info": {
   "codemirror_mode": {
    "name": "ipython",
    "version": 3
   },
   "file_extension": ".py",
   "mimetype": "text/x-python",
   "name": "python",
   "nbconvert_exporter": "python",
   "pygments_lexer": "ipython3",
   "version": "3.5.5"
  }
 },
 "nbformat": 4,
 "nbformat_minor": 2
}
