{
 "cells": [
  {
   "cell_type": "code",
   "execution_count": 1,
   "metadata": {},
   "outputs": [],
   "source": [
    "import cv2\n",
    "import sys\n",
    "# ビデオの読み込み\n",
    "cap = cv2.VideoCapture(\"movie/fan.mp4\")\n",
    "# 読み込めているかチェック\n",
    "if cap.isOpened() == False:\n",
    "    sys.exit()\n",
    "# 動画読込のループに入る\n",
    "while True:\n",
    "# 動画を1フレームだけ読み込む\n",
    "    ret, frame = cap.read()\n",
    "# 動画の最後は読み込みがFalseとなりbreakする\n",
    "    if ret == False:\n",
    "        break\n",
    "# 読み込んだframeを表示\n",
    "    cv2.imshow(\"img\", frame)\n",
    "    if cv2.waitKey(30) == 27:\n",
    "        break\n",
    "cv2.destroyAllWindows()"
   ]
  },
  {
   "cell_type": "code",
   "execution_count": 2,
   "metadata": {},
   "outputs": [],
   "source": [
    "import cv2\n",
    "import sys\n",
    "# ビデオの読み込み\n",
    "cap = cv2.VideoCapture(\"movie/fan.mp4\")\n",
    "# アレーサイズを取得するために予め1フレーム読み込む\n",
    "ret, frame = cap.read()\n",
    "# サイズを取得する\n",
    "h, w = frame.shape[:2]\n",
    "# コーデックの設定\n",
    "fourcc = cv2.VideoWriter_fourcc(*\"XVID\")\n",
    "# 出力するためのファイルパスなど出力設定\n",
    "dst = cv2.VideoWriter(\"output/test.avi\", fourcc, 30.0, (w,h))\n",
    "# 読み込めているかチェック\n",
    "if cap.isOpened() == False:\n",
    "    sys.exit()\n",
    "# 動画読込のループに入る\n",
    "while True:\n",
    "# 動画を1フレームだけ読み込む\n",
    "    ret, frame = cap.read()\n",
    "# 動画の最後は読み込みがFalseとなりbreakする\n",
    "    if ret == False:\n",
    "        break\n",
    "# 読み込んだframeを表示\n",
    "    cv2.imshow(\"img\", frame)\n",
    "# 動画を出力\n",
    "    dst.write(frame)\n",
    "    if cv2.waitKey(30) == 27:\n",
    "        break\n",
    "cv2.destroyAllWindows()"
   ]
  },
  {
   "cell_type": "code",
   "execution_count": null,
   "metadata": {},
   "outputs": [],
   "source": []
  }
 ],
 "metadata": {
  "kernelspec": {
   "display_name": "Python 3",
   "language": "python",
   "name": "python3"
  },
  "language_info": {
   "codemirror_mode": {
    "name": "ipython",
    "version": 3
   },
   "file_extension": ".py",
   "mimetype": "text/x-python",
   "name": "python",
   "nbconvert_exporter": "python",
   "pygments_lexer": "ipython3",
   "version": "3.5.5"
  }
 },
 "nbformat": 4,
 "nbformat_minor": 2
}
