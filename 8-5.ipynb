{
 "cells": [
  {
   "cell_type": "code",
   "execution_count": 2,
   "metadata": {},
   "outputs": [],
   "source": [
    "import cv2\n",
    "import copy\n",
    "\n",
    "img = cv2.imread(\"src/Blob.png\")\n",
    "img_g = cv2.imread(\"src/Blob.png\",0)\n",
    "# 2値化画像の用意\n",
    "ret, img_bi = cv2.threshold(img_g, 100, 255, cv2.THRESH_BINARY)\n",
    "# ブロブの検出\n",
    "nLabels, labelImage, stats, centroids = cv2.connectedComponentsWithStats(img_bi)\n",
    "\n",
    "#\n",
    "# 以下では抽出した情報を画像に書き込む\n",
    "#\n",
    "img_blob = copy.deepcopy(img)\n",
    "h, w = img_g.shape\n",
    "color = [[255,0,0],[0,255,0],[0,0,255],[255,255,0]]\n",
    "# ブロブを塗りつぶす\n",
    "for y in range(h):\n",
    "    for x in range(w):\n",
    "        if labelImage[y,x] > 0:\n",
    "            img_blob[y,x] = color[labelImage[y,x]-1]\n",
    "# ブロブの面積をテキストで書き込む\n",
    "for i in range(1,nLabels):\n",
    "    xc = int(centroids[i][0])\n",
    "    yc = int(centroids[i][1])\n",
    "    font = cv2.FONT_HERSHEY_COMPLEX\n",
    "    scale = 1\n",
    "    color = (255,255,255)\n",
    "    cv2.putText(img_blob, str(stats[i][-1]), (xc,yc), font, scale, color)\n",
    "    \n",
    "cv2.imshow(\"img\",img_blob)\n",
    "cv2.waitKey(0)\n",
    "cv2.destroyAllWindows()"
   ]
  },
  {
   "cell_type": "code",
   "execution_count": null,
   "metadata": {},
   "outputs": [],
   "source": []
  }
 ],
 "metadata": {
  "kernelspec": {
   "display_name": "Python 3",
   "language": "python",
   "name": "python3"
  },
  "language_info": {
   "codemirror_mode": {
    "name": "ipython",
    "version": 3
   },
   "file_extension": ".py",
   "mimetype": "text/x-python",
   "name": "python",
   "nbconvert_exporter": "python",
   "pygments_lexer": "ipython3",
   "version": "3.5.5"
  }
 },
 "nbformat": 4,
 "nbformat_minor": 2
}
